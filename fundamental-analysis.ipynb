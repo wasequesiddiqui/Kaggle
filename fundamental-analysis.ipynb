{
 "cells": [
  {
   "cell_type": "code",
   "execution_count": 1,
   "id": "4a1d28c5",
   "metadata": {
    "_cell_guid": "b1076dfc-b9ad-4769-8c92-a6c4dae69d19",
    "_uuid": "8f2839f25d086af736a60e9eeb907d3b93b6e0e5",
    "execution": {
     "iopub.execute_input": "2023-07-16T09:03:17.175552Z",
     "iopub.status.busy": "2023-07-16T09:03:17.175176Z",
     "iopub.status.idle": "2023-07-16T09:03:28.739063Z",
     "shell.execute_reply": "2023-07-16T09:03:28.737585Z"
    },
    "papermill": {
     "duration": 11.572312,
     "end_time": "2023-07-16T09:03:28.741581",
     "exception": false,
     "start_time": "2023-07-16T09:03:17.169269",
     "status": "completed"
    },
    "tags": []
   },
   "outputs": [
    {
     "name": "stdout",
     "output_type": "stream",
     "text": [
      "Collecting yfinance\r\n",
      "  Downloading yfinance-0.2.24-py2.py3-none-any.whl (63 kB)\r\n",
      "\u001b[2K     \u001b[90m━━━━━━━━━━━━━━━━━━━━━━━━━━━━━━━━━━━━━━━━\u001b[0m \u001b[32m63.1/63.1 kB\u001b[0m \u001b[31m3.4 MB/s\u001b[0m eta \u001b[36m0:00:00\u001b[0m\r\n",
      "\u001b[?25hRequirement already satisfied: pandas>=1.3.0 in /opt/conda/lib/python3.10/site-packages (from yfinance) (1.5.3)\r\n",
      "Requirement already satisfied: numpy>=1.16.5 in /opt/conda/lib/python3.10/site-packages (from yfinance) (1.23.5)\r\n",
      "Requirement already satisfied: requests>=2.26 in /opt/conda/lib/python3.10/site-packages (from yfinance) (2.28.2)\r\n",
      "Collecting multitasking>=0.0.7 (from yfinance)\r\n",
      "  Downloading multitasking-0.0.11-py3-none-any.whl (8.5 kB)\r\n",
      "Requirement already satisfied: lxml>=4.9.1 in /opt/conda/lib/python3.10/site-packages (from yfinance) (4.9.2)\r\n",
      "Requirement already satisfied: appdirs>=1.4.4 in /opt/conda/lib/python3.10/site-packages (from yfinance) (1.4.4)\r\n",
      "Requirement already satisfied: pytz>=2022.5 in /opt/conda/lib/python3.10/site-packages (from yfinance) (2023.3)\r\n",
      "Requirement already satisfied: frozendict>=2.3.4 in /opt/conda/lib/python3.10/site-packages (from yfinance) (2.3.8)\r\n",
      "Requirement already satisfied: beautifulsoup4>=4.11.1 in /opt/conda/lib/python3.10/site-packages (from yfinance) (4.12.2)\r\n",
      "Requirement already satisfied: html5lib>=1.1 in /opt/conda/lib/python3.10/site-packages (from yfinance) (1.1)\r\n",
      "Requirement already satisfied: soupsieve>1.2 in /opt/conda/lib/python3.10/site-packages (from beautifulsoup4>=4.11.1->yfinance) (2.3.2.post1)\r\n",
      "Requirement already satisfied: six>=1.9 in /opt/conda/lib/python3.10/site-packages (from html5lib>=1.1->yfinance) (1.16.0)\r\n",
      "Requirement already satisfied: webencodings in /opt/conda/lib/python3.10/site-packages (from html5lib>=1.1->yfinance) (0.5.1)\r\n",
      "Requirement already satisfied: python-dateutil>=2.8.1 in /opt/conda/lib/python3.10/site-packages (from pandas>=1.3.0->yfinance) (2.8.2)\r\n",
      "Requirement already satisfied: charset-normalizer<4,>=2 in /opt/conda/lib/python3.10/site-packages (from requests>=2.26->yfinance) (2.1.1)\r\n",
      "Requirement already satisfied: idna<4,>=2.5 in /opt/conda/lib/python3.10/site-packages (from requests>=2.26->yfinance) (3.4)\r\n",
      "Requirement already satisfied: urllib3<1.27,>=1.21.1 in /opt/conda/lib/python3.10/site-packages (from requests>=2.26->yfinance) (1.26.15)\r\n",
      "Requirement already satisfied: certifi>=2017.4.17 in /opt/conda/lib/python3.10/site-packages (from requests>=2.26->yfinance) (2023.5.7)\r\n",
      "Installing collected packages: multitasking, yfinance\r\n",
      "Successfully installed multitasking-0.0.11 yfinance-0.2.24\r\n",
      "\u001b[33mWARNING: Running pip as the 'root' user can result in broken permissions and conflicting behaviour with the system package manager. It is recommended to use a virtual environment instead: https://pip.pypa.io/warnings/venv\u001b[0m\u001b[33m\r\n",
      "\u001b[0m/kaggle/input/fy-2023/FY_23xlsx.xlsx\n"
     ]
    }
   ],
   "source": [
    "# This Python 3 environment comes with many helpful analytics libraries installed\n",
    "# It is defined by the kaggle/python Docker image: https://github.com/kaggle/docker-python\n",
    "# For example, here's several helpful packages to load\n",
    "\n",
    "import numpy as np # linear algebra\n",
    "import pandas as pd # data processing, CSV file I/O (e.g. pd.read_csv)\n",
    "import json\n",
    "import os\n",
    "import math\n",
    "import matplotlib.pyplot as plt\n",
    "import pandas_datareader as web\n",
    "try:\n",
    "    import yfinance as yf\n",
    "except:\n",
    "    !pip install yfinance\n",
    "    import yfinance as yf\n",
    "from datetime import date, timedelta, datetime\n",
    "from pandas.io.json import json_normalize\n",
    "import sqlite3\n",
    "# Input data files are available in the read-only \"../input/\" directory\n",
    "# For example, running this (by clicking run or pressing Shift+Enter) will list all files under the input directory\n",
    "\n",
    "import os\n",
    "for dirname, _, filenames in os.walk('/kaggle/input'):\n",
    "    for filename in filenames:\n",
    "        print(os.path.join(dirname, filename))\n",
    "\n",
    "# You can write up to 20GB to the current directory (/kaggle/working/) that gets preserved as output when you create a version using \"Save & Run All\" \n",
    "# You can also write temporary files to /kaggle/temp/, but they won't be saved outside of the current session"
   ]
  },
  {
   "cell_type": "code",
   "execution_count": 2,
   "id": "484d6394",
   "metadata": {
    "execution": {
     "iopub.execute_input": "2023-07-16T09:03:28.752802Z",
     "iopub.status.busy": "2023-07-16T09:03:28.752204Z",
     "iopub.status.idle": "2023-07-16T09:03:28.756814Z",
     "shell.execute_reply": "2023-07-16T09:03:28.756035Z"
    },
    "papermill": {
     "duration": 0.012995,
     "end_time": "2023-07-16T09:03:28.759199",
     "exception": false,
     "start_time": "2023-07-16T09:03:28.746204",
     "status": "completed"
    },
    "tags": []
   },
   "outputs": [],
   "source": [
    "conn = sqlite3.connect('fundamental_analytics.db')"
   ]
  },
  {
   "cell_type": "code",
   "execution_count": 3,
   "id": "a0debe7b",
   "metadata": {
    "execution": {
     "iopub.execute_input": "2023-07-16T09:03:28.769783Z",
     "iopub.status.busy": "2023-07-16T09:03:28.769417Z",
     "iopub.status.idle": "2023-07-16T09:03:28.783308Z",
     "shell.execute_reply": "2023-07-16T09:03:28.781908Z"
    },
    "papermill": {
     "duration": 0.022001,
     "end_time": "2023-07-16T09:03:28.786107",
     "exception": false,
     "start_time": "2023-07-16T09:03:28.764106",
     "status": "completed"
    },
    "tags": []
   },
   "outputs": [],
   "source": [
    "def get_start_date():\n",
    "    print(\"Please enter the start date for evaluation in DD-MM-YYYY (example: 01-01-2019): \")\n",
    "    start_date = input()\n",
    "    start_date_object = datetime.strptime(start_date, '%d-%m-%Y')\n",
    "    print(\"Date entered by you: \" + start_date_object.strftime('%d/%m/%Y'))\n",
    "    return start_date_object\n",
    "\n",
    "def get_end_date():\n",
    "    print(\"Please enter the end date for evaluation in DD-MM-YYYY (example: 31-10-2019): \")\n",
    "    end_date = input()\n",
    "    end_date_object = datetime.strptime(end_date, '%d-%m-%Y')\n",
    "    print(\"Date entered by you: \" + end_date_object.strftime('%d/%m/%Y'))\n",
    "    return end_date_object\n",
    "\n",
    "def get_stock_tickers():\n",
    "    print(\"Please enter the list of stocks seprated by comma: \")\n",
    "    get_stock_tickers_object = input().split(',')\n",
    "    print(\"The Tickers entered by you are as follows: \")\n",
    "    for ticker in range(len(get_stock_tickers_object)): \n",
    "        print(get_stock_tickers_object[ticker])\n",
    "    return get_stock_tickers_object\n",
    "\n",
    "def get_stock_ticker_data(stock_ticker, start_date, end_date):\n",
    "    print(\"Evaluating for \" + stock_ticker)\n",
    "    scrip = web.DataReader(stock_ticker, data_source='yahoo', start=start_date.strftime('%d/%m/%Y'), end=end_date.strftime('%d/%m/%Y'))\n",
    "    scrip['Ticker'] = stock_ticker\n",
    "    return scrip\n",
    "\n",
    "def get_all_stocks_dataframe(stock_tickers, start_date, end_date):\n",
    "    df_all_historicaldata = list()\n",
    "    for ticker in range(len(stock_tickers)):\n",
    "        df_stock_data = get_stock_ticker_data(stock_tickers[ticker],start_date,end_date)\n",
    "        df_all_historicaldata.append(df_stock_data)\n",
    "\n",
    "    df_all_historicaldata.append(get_stock_ticker_data('^NSEI',start_date,end_date))\n",
    "    df_all_historicaldata.append(get_stock_ticker_data('^CRSLDX',start_date,end_date))\n",
    "    print(len(df_all_historicaldata))\n",
    "\n",
    "    return df_all_historicaldata\n",
    "\n",
    "def get_merged_frame(historical_value_dataframe):\n",
    "    merged_dataframe_result = pd.DataFrame()\n",
    "    for iterator in range(len(historical_value_dataframe)):\n",
    "        if(iterator==0):\n",
    "            data = historical_value_dataframe[iterator]\n",
    "            scrip = 'Close_' + data['Ticker'][0]\n",
    "            data = data.rename(columns = {'Close' : scrip})\n",
    "            merged_dataframe_result = data[[scrip]]\n",
    "        else:\n",
    "            data = historical_value_dataframe[iterator]\n",
    "            scrip = 'Close_' + data['Ticker'][0]\n",
    "            data = data[['Close']]\n",
    "            data = data.rename(columns = {'Close' : scrip})\n",
    "            merged_dataframe_result = merged_dataframe_result.join(data, how='left')\n",
    "    print(merged_dataframe_result.head(5))\n",
    "    return merged_dataframe_result\n",
    "\n",
    "def get_BS_DATA(ticker):\n",
    "    df_BS = yf.Ticker(ticker)\n",
    "    print(\"----- BALANCE SHEET DATA -----\")\n",
    "    print(df_BS.balance_sheet)\n",
    "    print(type(df_BS))\n",
    "    return df_BS.balance_sheet\n",
    "\n",
    "def get_CF_DATA(ticker):\n",
    "    df_CF = yf.Ticker(ticker)\n",
    "    print(\"----- CASH FLOW -----\")\n",
    "    df_CF.cashflow\n",
    "    return df_CF.cashflow\n",
    "\n",
    "def get_PNL_DATA(ticker):\n",
    "    df_PNL = yf.Ticker(ticker)\n",
    "    print(\"----- PNL -----\")\n",
    "    df_PNL.financials\n",
    "    return df_PNL.financials"
   ]
  },
  {
   "cell_type": "code",
   "execution_count": 4,
   "id": "7214c667",
   "metadata": {
    "execution": {
     "iopub.execute_input": "2023-07-16T09:03:28.796661Z",
     "iopub.status.busy": "2023-07-16T09:03:28.796276Z",
     "iopub.status.idle": "2023-07-16T09:03:28.801938Z",
     "shell.execute_reply": "2023-07-16T09:03:28.800542Z"
    },
    "papermill": {
     "duration": 0.01368,
     "end_time": "2023-07-16T09:03:28.804304",
     "exception": false,
     "start_time": "2023-07-16T09:03:28.790624",
     "status": "completed"
    },
    "tags": []
   },
   "outputs": [],
   "source": [
    "def get_fundamental_data():\n",
    "    list_of_stocks = input(\"Please enter multiple scrips separated by comma: \")\n",
    "    final_list = list_of_stocks.split(\",\")\n",
    "    print(final_list)\n",
    "    return final_list"
   ]
  },
  {
   "cell_type": "code",
   "execution_count": 5,
   "id": "dd164900",
   "metadata": {
    "execution": {
     "iopub.execute_input": "2023-07-16T09:03:28.814554Z",
     "iopub.status.busy": "2023-07-16T09:03:28.814179Z",
     "iopub.status.idle": "2023-07-16T09:03:28.819553Z",
     "shell.execute_reply": "2023-07-16T09:03:28.818243Z"
    },
    "papermill": {
     "duration": 0.012804,
     "end_time": "2023-07-16T09:03:28.821614",
     "exception": false,
     "start_time": "2023-07-16T09:03:28.808810",
     "status": "completed"
    },
    "tags": []
   },
   "outputs": [],
   "source": [
    "def generate_financial_dataset(ticker):\n",
    "    get_BS_DATA(ticker).to_csv(\"DF_BS_DATA.csv\")\n",
    "    get_CF_DATA(ticker).to_csv(\"DF_CF_DATA.csv\")\n",
    "    get_PNL_DATA(ticker).to_csv(\"DF_PNL_DATA.csv\")"
   ]
  },
  {
   "cell_type": "code",
   "execution_count": 6,
   "id": "3f6ad932",
   "metadata": {
    "execution": {
     "iopub.execute_input": "2023-07-16T09:03:28.833195Z",
     "iopub.status.busy": "2023-07-16T09:03:28.832819Z",
     "iopub.status.idle": "2023-07-16T09:03:29.359647Z",
     "shell.execute_reply": "2023-07-16T09:03:29.358719Z"
    },
    "papermill": {
     "duration": 0.536357,
     "end_time": "2023-07-16T09:03:29.362206",
     "exception": false,
     "start_time": "2023-07-16T09:03:28.825849",
     "status": "completed"
    },
    "tags": []
   },
   "outputs": [
    {
     "name": "stdout",
     "output_type": "stream",
     "text": [
      "----- BALANCE SHEET DATA -----\n",
      "                                                      2023-03-31  \\\n",
      "Ordinary Shares Number                              2399334970.0   \n",
      "Share Issued                                        2399334970.0   \n",
      "Net Debt                                           21340600000.0   \n",
      "Total Debt                                         68896600000.0   \n",
      "Tangible Book Value                               379558300000.0   \n",
      "...                                                          ...   \n",
      "Cash Cash Equivalents And Short Term Investments  159074100000.0   \n",
      "Other Short Term Investments                      112836800000.0   \n",
      "Cash And Cash Equivalents                          46237300000.0   \n",
      "Cash Equivalents                                             NaN   \n",
      "Cash Financial                                               NaN   \n",
      "\n",
      "                                                      2022-03-31  \\\n",
      "Ordinary Shares Number                              2399334970.0   \n",
      "Share Issued                                        2399334970.0   \n",
      "Net Debt                                                     NaN   \n",
      "Total Debt                                         12903000000.0   \n",
      "Tangible Book Value                               354335700000.0   \n",
      "...                                                          ...   \n",
      "Cash Cash Equivalents And Short Term Investments  126547900000.0   \n",
      "Other Short Term Investments                       81465400000.0   \n",
      "Cash And Cash Equivalents                          45082500000.0   \n",
      "Cash Equivalents                                   23439100000.0   \n",
      "Cash Financial                                     21643400000.0   \n",
      "\n",
      "                                                      2021-03-31  \\\n",
      "Ordinary Shares Number                              2399334970.0   \n",
      "Share Issued                                        2399334970.0   \n",
      "Net Debt                                                     NaN   \n",
      "Total Debt                                         38685800000.0   \n",
      "Tangible Book Value                               345144800000.0   \n",
      "...                                                          ...   \n",
      "Cash Cash Equivalents And Short Term Investments   95631800000.0   \n",
      "Other Short Term Investments                       32901500000.0   \n",
      "Cash And Cash Equivalents                          62730300000.0   \n",
      "Cash Equivalents                                   34327700000.0   \n",
      "Cash Financial                                     28402600000.0   \n",
      "\n",
      "                                                      2020-03-31  \n",
      "Ordinary Shares Number                              2399334970.0  \n",
      "Share Issued                                        2399334970.0  \n",
      "Net Debt                                           22942400000.0  \n",
      "Total Debt                                         83148800000.0  \n",
      "Tangible Book Value                               324235400000.0  \n",
      "...                                                          ...  \n",
      "Cash Cash Equivalents And Short Term Investments  109398000000.0  \n",
      "Other Short Term Investments                       52631900000.0  \n",
      "Cash And Cash Equivalents                          56766100000.0  \n",
      "Cash Equivalents                                   37662800000.0  \n",
      "Cash Financial                                     19103300000.0  \n",
      "\n",
      "[89 rows x 4 columns]\n",
      "<class 'yfinance.ticker.Ticker'>\n",
      "----- CASH FLOW -----\n",
      "----- PNL -----\n"
     ]
    }
   ],
   "source": [
    "generate_financial_dataset('SUNPHARMA.NS')"
   ]
  },
  {
   "cell_type": "code",
   "execution_count": 7,
   "id": "86683e4a",
   "metadata": {
    "execution": {
     "iopub.execute_input": "2023-07-16T09:03:29.374061Z",
     "iopub.status.busy": "2023-07-16T09:03:29.373714Z",
     "iopub.status.idle": "2023-07-16T09:03:29.828484Z",
     "shell.execute_reply": "2023-07-16T09:03:29.826799Z"
    },
    "papermill": {
     "duration": 0.463132,
     "end_time": "2023-07-16T09:03:29.830571",
     "exception": false,
     "start_time": "2023-07-16T09:03:29.367439",
     "status": "completed"
    },
    "tags": []
   },
   "outputs": [
    {
     "name": "stdout",
     "output_type": "stream",
     "text": [
      "----- BALANCE SHEET DATA -----\n",
      "                                                      2023-03-31  \\\n",
      "Ordinary Shares Number                              2399334970.0   \n",
      "Share Issued                                        2399334970.0   \n",
      "Net Debt                                           21340600000.0   \n",
      "Total Debt                                         68896600000.0   \n",
      "Tangible Book Value                               379558300000.0   \n",
      "...                                                          ...   \n",
      "Cash Cash Equivalents And Short Term Investments  159074100000.0   \n",
      "Other Short Term Investments                      112836800000.0   \n",
      "Cash And Cash Equivalents                          46237300000.0   \n",
      "Cash Equivalents                                             NaN   \n",
      "Cash Financial                                               NaN   \n",
      "\n",
      "                                                      2022-03-31  \\\n",
      "Ordinary Shares Number                              2399334970.0   \n",
      "Share Issued                                        2399334970.0   \n",
      "Net Debt                                                     NaN   \n",
      "Total Debt                                         12903000000.0   \n",
      "Tangible Book Value                               354335700000.0   \n",
      "...                                                          ...   \n",
      "Cash Cash Equivalents And Short Term Investments  126547900000.0   \n",
      "Other Short Term Investments                       81465400000.0   \n",
      "Cash And Cash Equivalents                          45082500000.0   \n",
      "Cash Equivalents                                   23439100000.0   \n",
      "Cash Financial                                     21643400000.0   \n",
      "\n",
      "                                                      2021-03-31  \\\n",
      "Ordinary Shares Number                              2399334970.0   \n",
      "Share Issued                                        2399334970.0   \n",
      "Net Debt                                                     NaN   \n",
      "Total Debt                                         38685800000.0   \n",
      "Tangible Book Value                               345144800000.0   \n",
      "...                                                          ...   \n",
      "Cash Cash Equivalents And Short Term Investments   95631800000.0   \n",
      "Other Short Term Investments                       32901500000.0   \n",
      "Cash And Cash Equivalents                          62730300000.0   \n",
      "Cash Equivalents                                   34327700000.0   \n",
      "Cash Financial                                     28402600000.0   \n",
      "\n",
      "                                                      2020-03-31  \n",
      "Ordinary Shares Number                              2399334970.0  \n",
      "Share Issued                                        2399334970.0  \n",
      "Net Debt                                           22942400000.0  \n",
      "Total Debt                                         83148800000.0  \n",
      "Tangible Book Value                               324235400000.0  \n",
      "...                                                          ...  \n",
      "Cash Cash Equivalents And Short Term Investments  109398000000.0  \n",
      "Other Short Term Investments                       52631900000.0  \n",
      "Cash And Cash Equivalents                          56766100000.0  \n",
      "Cash Equivalents                                   37662800000.0  \n",
      "Cash Financial                                     19103300000.0  \n",
      "\n",
      "[89 rows x 4 columns]\n",
      "<class 'yfinance.ticker.Ticker'>\n",
      "----- PNL -----\n",
      "----- CASH FLOW -----\n"
     ]
    }
   ],
   "source": [
    "ticker = 'SUNPHARMA.NS'\n",
    "df = get_BS_DATA(ticker)\n",
    "df_pnl = get_PNL_DATA(ticker)\n",
    "df_cf = get_CF_DATA(ticker)"
   ]
  },
  {
   "cell_type": "code",
   "execution_count": 8,
   "id": "cbc23a0f",
   "metadata": {
    "execution": {
     "iopub.execute_input": "2023-07-16T09:03:29.843319Z",
     "iopub.status.busy": "2023-07-16T09:03:29.842846Z",
     "iopub.status.idle": "2023-07-16T09:03:29.851209Z",
     "shell.execute_reply": "2023-07-16T09:03:29.850030Z"
    },
    "papermill": {
     "duration": 0.017763,
     "end_time": "2023-07-16T09:03:29.853930",
     "exception": false,
     "start_time": "2023-07-16T09:03:29.836167",
     "status": "completed"
    },
    "tags": []
   },
   "outputs": [
    {
     "data": {
      "text/plain": [
       "2399334970.0"
      ]
     },
     "execution_count": 8,
     "metadata": {},
     "output_type": "execute_result"
    }
   ],
   "source": [
    "df.loc['Share Issued'][0]"
   ]
  },
  {
   "cell_type": "code",
   "execution_count": 9,
   "id": "eb6f9fff",
   "metadata": {
    "execution": {
     "iopub.execute_input": "2023-07-16T09:03:29.865906Z",
     "iopub.status.busy": "2023-07-16T09:03:29.865544Z",
     "iopub.status.idle": "2023-07-16T09:03:29.871868Z",
     "shell.execute_reply": "2023-07-16T09:03:29.870588Z"
    },
    "papermill": {
     "duration": 0.015238,
     "end_time": "2023-07-16T09:03:29.874427",
     "exception": false,
     "start_time": "2023-07-16T09:03:29.859189",
     "status": "completed"
    },
    "tags": []
   },
   "outputs": [],
   "source": [
    "def ratio(num,den):\n",
    "    return round (num / den,4)\n",
    "def per_calc(y,y_1):\n",
    "    return round ((y_1/y)-1,4)\n",
    "def print_ms(var,msg):\n",
    "    print(msg)\n",
    "    print(\"\\n\")\n",
    "    print(var)\n",
    "    print(\"\\n\")"
   ]
  },
  {
   "cell_type": "code",
   "execution_count": 10,
   "id": "d250d9ed",
   "metadata": {
    "execution": {
     "iopub.execute_input": "2023-07-16T09:03:29.886519Z",
     "iopub.status.busy": "2023-07-16T09:03:29.885815Z",
     "iopub.status.idle": "2023-07-16T09:03:29.891305Z",
     "shell.execute_reply": "2023-07-16T09:03:29.890120Z"
    },
    "papermill": {
     "duration": 0.014386,
     "end_time": "2023-07-16T09:03:29.893808",
     "exception": false,
     "start_time": "2023-07-16T09:03:29.879422",
     "status": "completed"
    },
    "tags": []
   },
   "outputs": [],
   "source": [
    "lst_liquidity_points = []"
   ]
  },
  {
   "cell_type": "markdown",
   "id": "d17c8105",
   "metadata": {
    "papermill": {
     "duration": 0.00522,
     "end_time": "2023-07-16T09:03:29.904137",
     "exception": false,
     "start_time": "2023-07-16T09:03:29.898917",
     "status": "completed"
    },
    "tags": []
   },
   "source": [
    "# Project Todo List\n",
    "1. Create a duplicate copy of index columns called description.\n",
    "2. Liquidity Ratios:\n",
    "    * Current Ratio => Current Assets / Current Liabilities\n",
    "    * Quick Ratio => (Current Assets - Inventory) / Current Liabilities\n",
    "    * Absolute Liquidity => Cash + Marketable Securities + Net Receivables + Debtors\n",
    "    * Cash Ratio => (Cash + Marketable Securities) / Current Liability"
   ]
  },
  {
   "cell_type": "code",
   "execution_count": 11,
   "id": "0afdfebe",
   "metadata": {
    "execution": {
     "iopub.execute_input": "2023-07-16T09:03:29.917354Z",
     "iopub.status.busy": "2023-07-16T09:03:29.916712Z",
     "iopub.status.idle": "2023-07-16T09:03:29.922727Z",
     "shell.execute_reply": "2023-07-16T09:03:29.922045Z"
    },
    "papermill": {
     "duration": 0.014807,
     "end_time": "2023-07-16T09:03:29.925410",
     "exception": false,
     "start_time": "2023-07-16T09:03:29.910603",
     "status": "completed"
    },
    "tags": []
   },
   "outputs": [],
   "source": [
    "def ratio_scoring_yoy_asc(num_row_lst,den_row_lst,name):\n",
    "    # current assets change list\n",
    "    lst_cr = [ratio(num_row_lst[0],den_row_lst[0]),\\\n",
    "              ratio(num_row_lst[1],den_row_lst[1]),\\\n",
    "              ratio(num_row_lst[2],den_row_lst[2]),\\\n",
    "              ratio(num_row_lst[3],den_row_lst[3])\n",
    "             ]\n",
    "    lst_cr_mv = [per_calc(lst_cr[0],lst_cr[1]),per_calc(lst_cr[1],lst_cr[2]),per_calc(lst_cr[2],lst_cr[3])]\n",
    "    lst_points = [1 if x>0 else 0 for x in lst_cr_mv]\n",
    "    print_ms(lst_cr,\"-- Ratios for \"+name+\" --\")\n",
    "    print_ms(lst_cr_mv, \"-- Ratio movement for \"+name+\" --\")\n",
    "    print_ms(lst_points, \"-- Ratio Points for \"+name+\" --\")\n",
    "    return [lst_points,lst_cr_mv,lst_cr]"
   ]
  },
  {
   "cell_type": "code",
   "execution_count": 12,
   "id": "24684748",
   "metadata": {
    "execution": {
     "iopub.execute_input": "2023-07-16T09:03:29.937130Z",
     "iopub.status.busy": "2023-07-16T09:03:29.936558Z",
     "iopub.status.idle": "2023-07-16T09:03:29.943003Z",
     "shell.execute_reply": "2023-07-16T09:03:29.942339Z"
    },
    "papermill": {
     "duration": 0.014617,
     "end_time": "2023-07-16T09:03:29.945123",
     "exception": false,
     "start_time": "2023-07-16T09:03:29.930506",
     "status": "completed"
    },
    "tags": []
   },
   "outputs": [],
   "source": [
    "def evaluate_score(df):\n",
    "    \n",
    "    lst_aggregator = []\n",
    "    \n",
    "    # calculation for current ratio\n",
    "    lst_curr_lr = ratio_scoring_yoy_asc(df.loc['Current Assets'],df.loc['Current Liabilities'],\"Current Ratio\")\n",
    "\n",
    "    # calculation of quick ratio\n",
    "    lst_curr_qr = ratio_scoring_yoy_asc(df.loc['Current Assets']-df.loc['Inventory'],df.loc['Current Liabilities'],\"Quick Ratio\")\n",
    "\n",
    "    # calculation of cash ratio\n",
    "    lst_curr_car = ratio_scoring_yoy_asc(df.loc['Cash Cash Equivalents And Short Term Investments'],df.loc['Current Liabilities'],\"Cash Ratio\")\n",
    "\n",
    "    # aggregate to the liquidity ratio list\n",
    "    lst_aggregator_lr = [[\"Current Ratio\",lst_curr_car,],[\"Quick Ratio\",lst_curr_car,],[\"Cash Ratio\",lst_curr_car,]]\n",
    "    \n",
    "    # aggregate to the main aggregator ratio\n",
    "    lst_aggregator.append(\"Quick Ratio\")\n",
    "    lst_aggregator.append(lst_aggregator_lr)\n",
    "    \n",
    "    #TURNOVER RATIOS\n",
    "    # calculation for inventory tunrover ratio\n",
    "    lst_inv_tr = ratio_scoring_yoy_asc(df_pnl.loc['Reconciled Cost Of Revenue'],df.loc['Inventory'],\"Inventory Turnover\")\n",
    "    \n",
    "    # calculation for receivable turnover ratio\n",
    "    lst_inv_rr = ratio_scoring_yoy_asc(df_pnl.loc['Operating Revenue'],df.loc['Accounts Receivable'],\"Account Receivable Turnover\")\n",
    "    \n",
    "    # calculation for capital ratio\n",
    "    lst_inv_rr = ratio_scoring_yoy_asc(df_pnl.loc['Operating Revenue'],df.loc['Accounts Receivable'],\"Account Receivable Turnover\")\n",
    "\n",
    "    return lst_aggregator"
   ]
  },
  {
   "cell_type": "markdown",
   "id": "ffab3c5c",
   "metadata": {
    "papermill": {
     "duration": 0.004308,
     "end_time": "2023-07-16T09:03:29.954256",
     "exception": false,
     "start_time": "2023-07-16T09:03:29.949948",
     "status": "completed"
    },
    "tags": []
   },
   "source": [
    "# Turnover Ratio\n",
    "* Inventory turnover ratio\n",
    "* Receivable turnover ratio\n",
    "* Capital ratio\n",
    "* Asset turnover ratio\n",
    "* Net working capital ratio\n",
    "* Cash conversion ratio"
   ]
  },
  {
   "cell_type": "code",
   "execution_count": 13,
   "id": "94c3e7cd",
   "metadata": {
    "execution": {
     "iopub.execute_input": "2023-07-16T09:03:29.965122Z",
     "iopub.status.busy": "2023-07-16T09:03:29.964765Z",
     "iopub.status.idle": "2023-07-16T09:03:29.973461Z",
     "shell.execute_reply": "2023-07-16T09:03:29.972163Z"
    },
    "papermill": {
     "duration": 0.016549,
     "end_time": "2023-07-16T09:03:29.975339",
     "exception": false,
     "start_time": "2023-07-16T09:03:29.958790",
     "status": "completed"
    },
    "tags": []
   },
   "outputs": [
    {
     "name": "stdout",
     "output_type": "stream",
     "text": [
      "-- Ratios for Current Ratio --\n",
      "\n",
      "\n",
      "[2.0025, 2.0357, 1.8855, 2.0154]\n",
      "\n",
      "\n",
      "-- Ratio movement for Current Ratio --\n",
      "\n",
      "\n",
      "[0.0166, -0.0738, 0.0689]\n",
      "\n",
      "\n",
      "-- Ratio Points for Current Ratio --\n",
      "\n",
      "\n",
      "[1, 0, 1]\n",
      "\n",
      "\n",
      "-- Ratios for Quick Ratio --\n",
      "\n",
      "\n",
      "[1.4743, 1.5126, 1.3282, 1.514]\n",
      "\n",
      "\n",
      "-- Ratio movement for Quick Ratio --\n",
      "\n",
      "\n",
      "[0.026, -0.1219, 0.1399]\n",
      "\n",
      "\n",
      "-- Ratio Points for Quick Ratio --\n",
      "\n",
      "\n",
      "[1, 0, 1]\n",
      "\n",
      "\n",
      "-- Ratios for Cash Ratio --\n",
      "\n",
      "\n",
      "[0.7991, 0.7357, 0.5923, 0.6965]\n",
      "\n",
      "\n",
      "-- Ratio movement for Cash Ratio --\n",
      "\n",
      "\n",
      "[-0.0793, -0.1949, 0.1759]\n",
      "\n",
      "\n",
      "-- Ratio Points for Cash Ratio --\n",
      "\n",
      "\n",
      "[0, 0, 1]\n",
      "\n",
      "\n",
      "-- Ratios for Inventory Turnover --\n",
      "\n",
      "\n",
      "[1.0142, 1.3013, 1.0987, 1.3297]\n",
      "\n",
      "\n",
      "-- Ratio movement for Inventory Turnover --\n",
      "\n",
      "\n",
      "[0.2831, -0.1557, 0.2102]\n",
      "\n",
      "\n",
      "-- Ratio Points for Inventory Turnover --\n",
      "\n",
      "\n",
      "[1, 0, 1]\n",
      "\n",
      "\n",
      "-- Ratios for Account Receivable Turnover --\n",
      "\n",
      "\n",
      "[3.7836, 3.6276, 3.6572, 3.4311]\n",
      "\n",
      "\n",
      "-- Ratio movement for Account Receivable Turnover --\n",
      "\n",
      "\n",
      "[-0.0412, 0.0082, -0.0618]\n",
      "\n",
      "\n",
      "-- Ratio Points for Account Receivable Turnover --\n",
      "\n",
      "\n",
      "[0, 1, 0]\n",
      "\n",
      "\n",
      "-- Ratios for Account Receivable Turnover --\n",
      "\n",
      "\n",
      "[3.7836, 3.6276, 3.6572, 3.4311]\n",
      "\n",
      "\n",
      "-- Ratio movement for Account Receivable Turnover --\n",
      "\n",
      "\n",
      "[-0.0412, 0.0082, -0.0618]\n",
      "\n",
      "\n",
      "-- Ratio Points for Account Receivable Turnover --\n",
      "\n",
      "\n",
      "[0, 1, 0]\n",
      "\n",
      "\n"
     ]
    },
    {
     "data": {
      "text/plain": [
       "['Quick Ratio',\n",
       " [['Current Ratio',\n",
       "   [[0, 0, 1], [-0.0793, -0.1949, 0.1759], [0.7991, 0.7357, 0.5923, 0.6965]]],\n",
       "  ['Quick Ratio',\n",
       "   [[0, 0, 1], [-0.0793, -0.1949, 0.1759], [0.7991, 0.7357, 0.5923, 0.6965]]],\n",
       "  ['Cash Ratio',\n",
       "   [[0, 0, 1], [-0.0793, -0.1949, 0.1759], [0.7991, 0.7357, 0.5923, 0.6965]]]]]"
      ]
     },
     "execution_count": 13,
     "metadata": {},
     "output_type": "execute_result"
    }
   ],
   "source": [
    "evaluate_score(df)"
   ]
  },
  {
   "cell_type": "code",
   "execution_count": null,
   "id": "6a34aede",
   "metadata": {
    "papermill": {
     "duration": 0.004363,
     "end_time": "2023-07-16T09:03:29.984485",
     "exception": false,
     "start_time": "2023-07-16T09:03:29.980122",
     "status": "completed"
    },
    "tags": []
   },
   "outputs": [],
   "source": []
  }
 ],
 "metadata": {
  "kernelspec": {
   "display_name": "Python 3",
   "language": "python",
   "name": "python3"
  },
  "language_info": {
   "codemirror_mode": {
    "name": "ipython",
    "version": 3
   },
   "file_extension": ".py",
   "mimetype": "text/x-python",
   "name": "python",
   "nbconvert_exporter": "python",
   "pygments_lexer": "ipython3",
   "version": "3.10.10"
  },
  "papermill": {
   "default_parameters": {},
   "duration": 24.81019,
   "end_time": "2023-07-16T09:03:30.811097",
   "environment_variables": {},
   "exception": null,
   "input_path": "__notebook__.ipynb",
   "output_path": "__notebook__.ipynb",
   "parameters": {},
   "start_time": "2023-07-16T09:03:06.000907",
   "version": "2.4.0"
  }
 },
 "nbformat": 4,
 "nbformat_minor": 5
}
